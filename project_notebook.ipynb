{
 "cells": [
  {
   "cell_type": "code",
   "execution_count": 6,
   "id": "7cc3bd1c-c6f9-4177-a8af-e087534e8132",
   "metadata": {
    "execution": {
     "iopub.execute_input": "2022-08-08T22:38:44.584664Z",
     "iopub.status.busy": "2022-08-08T22:38:44.584236Z",
     "iopub.status.idle": "2022-08-08T22:38:45.048390Z",
     "shell.execute_reply": "2022-08-08T22:38:45.046758Z",
     "shell.execute_reply.started": "2022-08-08T22:38:44.584621Z"
    },
    "tags": []
   },
   "outputs": [
    {
     "data": {
      "application/vnd.jupyter.widget-view+json": {
       "model_id": "9bc64aabc9564860ab4784e1154f419c",
       "version_major": 2,
       "version_minor": 0
      },
      "text/plain": [
       "VBox()"
      ]
     },
     "metadata": {},
     "output_type": "display_data"
    },
    {
     "data": {
      "application/vnd.jupyter.widget-view+json": {
       "model_id": "",
       "version_major": 2,
       "version_minor": 0
      },
      "text/plain": [
       "FloatProgress(value=0.0, bar_style='info', description='Progress:', layout=Layout(height='25px', width='50%'),…"
      ]
     },
     "metadata": {},
     "output_type": "display_data"
    }
   ],
   "source": [
    "%%spark"
   ]
  },
  {
   "cell_type": "code",
   "execution_count": 156,
   "id": "06ed7d16-8cf8-496e-b787-4f9be7370ed6",
   "metadata": {
    "execution": {
     "iopub.execute_input": "2022-08-08T23:58:16.725942Z",
     "iopub.status.busy": "2022-08-08T23:58:16.725579Z",
     "iopub.status.idle": "2022-08-08T23:58:16.955890Z",
     "shell.execute_reply": "2022-08-08T23:58:16.955072Z",
     "shell.execute_reply.started": "2022-08-08T23:58:16.725912Z"
    },
    "tags": []
   },
   "outputs": [
    {
     "data": {
      "application/vnd.jupyter.widget-view+json": {
       "model_id": "3c2ce79b816c457d93431daa283a68a4",
       "version_major": 2,
       "version_minor": 0
      },
      "text/plain": [
       "VBox()"
      ]
     },
     "metadata": {},
     "output_type": "display_data"
    },
    {
     "data": {
      "application/vnd.jupyter.widget-view+json": {
       "model_id": "",
       "version_major": 2,
       "version_minor": 0
      },
      "text/plain": [
       "FloatProgress(value=0.0, bar_style='info', description='Progress:', layout=Layout(height='25px', width='50%'),…"
      ]
     },
     "metadata": {},
     "output_type": "display_data"
    }
   ],
   "source": [
    "import configparser\n",
    "from datetime import datetime\n",
    "import os\n",
    "from pyspark.sql import SparkSession\n",
    "from pyspark.sql.functions import udf, col\n",
    "from pyspark.sql.functions import year, month, dayofmonth, hour, weekofyear, date_format\n",
    "from pyspark.sql.functions import *\n",
    "from pyspark.sql.types import *\n",
    "from pyspark.sql.window import Window\n",
    "\n",
    "# import boto3"
   ]
  },
  {
   "cell_type": "code",
   "execution_count": 9,
   "id": "b5a369be-13e7-4319-b504-f51aa7ee0ee5",
   "metadata": {
    "execution": {
     "iopub.execute_input": "2022-08-08T22:38:46.151922Z",
     "iopub.status.busy": "2022-08-08T22:38:46.151630Z",
     "iopub.status.idle": "2022-08-08T22:38:46.743954Z",
     "shell.execute_reply": "2022-08-08T22:38:46.742973Z",
     "shell.execute_reply.started": "2022-08-08T22:38:46.151893Z"
    },
    "tags": []
   },
   "outputs": [
    {
     "data": {
      "application/vnd.jupyter.widget-view+json": {
       "model_id": "53139a791bb741519b7998e32d9b94b1",
       "version_major": 2,
       "version_minor": 0
      },
      "text/plain": [
       "VBox()"
      ]
     },
     "metadata": {},
     "output_type": "display_data"
    },
    {
     "data": {
      "application/vnd.jupyter.widget-view+json": {
       "model_id": "",
       "version_major": 2,
       "version_minor": 0
      },
      "text/plain": [
       "FloatProgress(value=0.0, bar_style='info', description='Progress:', layout=Layout(height='25px', width='50%'),…"
      ]
     },
     "metadata": {},
     "output_type": "display_data"
    }
   ],
   "source": [
    "# song_schema = StructType(\\\n",
    "#                          StructField(\"a\", IntegerType, True) \\\n",
    "#                          StructField(\"b\", LongType, False) \\\n",
    "#                          StructField(\"c\", BooleanType, False) \\\n",
    "# )"
   ]
  },
  {
   "cell_type": "code",
   "execution_count": null,
   "id": "5362e8af-581f-4bb9-9b38-bf5f2a1e1b3b",
   "metadata": {
    "tags": []
   },
   "outputs": [],
   "source": [
    "# log_data_s3_uri = \"s3://udacity-dend/log_data/\"\n",
    "# song_data_s3_uri = \"s3://udacity-dend/song_data/\"\n",
    "\n",
    "# log_data_s3_uri = \"s3a://udacity-bkt-rc301-spark-project/data/log_data\"\n",
    "# song_data_s3_uri = \"s3a://udacity-bkt-rc301-spark-project/data/song_data/*/*/*\"\n",
    "\n",
    "# df_log = spark.read.json(log_data_s3_uri)\n",
    "# df_song = spark.read.json(song_data_s3_uri)"
   ]
  },
  {
   "cell_type": "code",
   "execution_count": null,
   "id": "ed282752-8955-4757-b48a-7d5e3ba75a0b",
   "metadata": {
    "tags": []
   },
   "outputs": [],
   "source": [
    "# df_song.printSchema()"
   ]
  },
  {
   "cell_type": "code",
   "execution_count": null,
   "id": "ed8cb94a-23e3-48e0-a02d-c4c55ab56286",
   "metadata": {
    "tags": []
   },
   "outputs": [],
   "source": [
    "# df_log.show(10)\n",
    "# df_log.printSchema()"
   ]
  },
  {
   "cell_type": "markdown",
   "id": "24fb49f2-91f8-4402-b886-1bdfdcd9d612",
   "metadata": {
    "tags": []
   },
   "source": [
    "## Process Song Data"
   ]
  },
  {
   "cell_type": "code",
   "execution_count": null,
   "id": "67d28f96-a493-440d-a39c-307c64961231",
   "metadata": {
    "tags": []
   },
   "outputs": [],
   "source": [
    "# df.schema"
   ]
  },
  {
   "cell_type": "code",
   "execution_count": 10,
   "id": "807b70a2-b4b4-4136-ae89-20e937e92e3f",
   "metadata": {
    "execution": {
     "iopub.execute_input": "2022-08-08T22:38:49.161777Z",
     "iopub.status.busy": "2022-08-08T22:38:49.161289Z",
     "iopub.status.idle": "2022-08-08T22:38:54.749406Z",
     "shell.execute_reply": "2022-08-08T22:38:54.748621Z",
     "shell.execute_reply.started": "2022-08-08T22:38:49.161707Z"
    },
    "tags": []
   },
   "outputs": [
    {
     "data": {
      "application/vnd.jupyter.widget-view+json": {
       "model_id": "9fa4011e5ded4afd86a86073d5d2efd4",
       "version_major": 2,
       "version_minor": 0
      },
      "text/plain": [
       "VBox()"
      ]
     },
     "metadata": {},
     "output_type": "display_data"
    },
    {
     "data": {
      "application/vnd.jupyter.widget-view+json": {
       "model_id": "",
       "version_major": 2,
       "version_minor": 0
      },
      "text/plain": [
       "FloatProgress(value=0.0, bar_style='info', description='Progress:', layout=Layout(height='25px', width='50%'),…"
      ]
     },
     "metadata": {},
     "output_type": "display_data"
    },
    {
     "name": "stdout",
     "output_type": "stream",
     "text": [
      "root\n",
      " |-- artist_id: string (nullable = true)\n",
      " |-- artist_latitude: double (nullable = true)\n",
      " |-- artist_location: string (nullable = true)\n",
      " |-- artist_longitude: double (nullable = true)\n",
      " |-- artist_name: string (nullable = true)\n",
      " |-- duration: double (nullable = true)\n",
      " |-- num_songs: long (nullable = true)\n",
      " |-- song_id: string (nullable = true)\n",
      " |-- title: string (nullable = true)\n",
      " |-- year: integer (nullable = true)"
     ]
    }
   ],
   "source": [
    "# song_data_s3_uri = \"s3://udacity-dend/song_data/\"\n",
    "input_data = \"s3a://udacity-bkt-rc301-spark-project/data/\"\n",
    "song_data = f\"{input_data}song_data/*/*/*\"\n",
    "song_schema = StructType([StructField('artist_id', StringType(), True), \\\n",
    "                            StructField('artist_latitude', DoubleType(), True), \\\n",
    "                            StructField('artist_location', StringType(), True), \\\n",
    "                            StructField('artist_longitude', DoubleType(), True), \\\n",
    "                            StructField('artist_name', StringType(), True), \\\n",
    "                            StructField('duration', DoubleType(), True), \\\n",
    "                            StructField('num_songs', LongType(), True), \\\n",
    "                            StructField('song_id', StringType(), True), \\\n",
    "                            StructField('title', StringType(), True), \\\n",
    "                            StructField('year', IntegerType(), True) \\\n",
    "                         ])\n",
    "\n",
    "df = spark.read.schema(song_schema).json(song_data)\n",
    "df.printSchema()"
   ]
  },
  {
   "cell_type": "code",
   "execution_count": null,
   "id": "78213555-2cf5-4ad2-b10e-e92552ce24b4",
   "metadata": {
    "tags": []
   },
   "outputs": [],
   "source": [
    "# schema = StructType([ \\\n",
    "#     StructField(\"song_id\",StringType(),True), \\\n",
    "#     StructField(\"title\",StringType(),True), \\\n",
    "#     StructField(\"artist_id\",StringType(),True), \\\n",
    "#     StructField(\"year\", IntegerType(), True), \\\n",
    "#     StructField(\"duration\", DoubleType(), True)\n",
    "#   ])"
   ]
  },
  {
   "cell_type": "code",
   "execution_count": 4,
   "id": "a6cf861c-ec2f-45b0-8e49-1716e1e7feac",
   "metadata": {
    "execution": {
     "iopub.execute_input": "2022-08-08T22:26:07.512277Z",
     "iopub.status.busy": "2022-08-08T22:26:07.511879Z",
     "iopub.status.idle": "2022-08-08T22:26:07.969314Z",
     "shell.execute_reply": "2022-08-08T22:26:07.968510Z",
     "shell.execute_reply.started": "2022-08-08T22:26:07.512232Z"
    },
    "tags": []
   },
   "outputs": [
    {
     "data": {
      "application/vnd.jupyter.widget-view+json": {
       "model_id": "42997563394d41ba839329baa40cf507",
       "version_major": 2,
       "version_minor": 0
      },
      "text/plain": [
       "VBox()"
      ]
     },
     "metadata": {},
     "output_type": "display_data"
    },
    {
     "data": {
      "application/vnd.jupyter.widget-view+json": {
       "model_id": "",
       "version_major": 2,
       "version_minor": 0
      },
      "text/plain": [
       "FloatProgress(value=0.0, bar_style='info', description='Progress:', layout=Layout(height='25px', width='50%'),…"
      ]
     },
     "metadata": {},
     "output_type": "display_data"
    },
    {
     "name": "stdout",
     "output_type": "stream",
     "text": [
      "root\n",
      " |-- song_id: string (nullable = true)\n",
      " |-- title: string (nullable = true)\n",
      " |-- artist_id: string (nullable = true)\n",
      " |-- year: integer (nullable = true)\n",
      " |-- duration: double (nullable = true)"
     ]
    }
   ],
   "source": [
    "# extract columns to create songs table\n",
    "cols_songs_table = ['song_id', 'title', 'artist_id', 'year', 'duration']\n",
    "songs_table = df.select(cols_songs_table).dropDuplicates(cols_songs_table)\n",
    "songs_table.printSchema()"
   ]
  },
  {
   "cell_type": "code",
   "execution_count": 5,
   "id": "8285c490-6dd6-4af1-976d-79424767cb5f",
   "metadata": {
    "execution": {
     "iopub.execute_input": "2022-08-08T22:26:07.971554Z",
     "iopub.status.busy": "2022-08-08T22:26:07.970806Z",
     "iopub.status.idle": "2022-08-08T22:26:08.171221Z",
     "shell.execute_reply": "2022-08-08T22:26:08.170393Z",
     "shell.execute_reply.started": "2022-08-08T22:26:07.971515Z"
    },
    "tags": []
   },
   "outputs": [
    {
     "data": {
      "application/vnd.jupyter.widget-view+json": {
       "model_id": "077074c050044fdba1f12efcce17616a",
       "version_major": 2,
       "version_minor": 0
      },
      "text/plain": [
       "VBox()"
      ]
     },
     "metadata": {},
     "output_type": "display_data"
    },
    {
     "data": {
      "application/vnd.jupyter.widget-view+json": {
       "model_id": "",
       "version_major": 2,
       "version_minor": 0
      },
      "text/plain": [
       "FloatProgress(value=0.0, bar_style='info', description='Progress:', layout=Layout(height='25px', width='50%'),…"
      ]
     },
     "metadata": {},
     "output_type": "display_data"
    }
   ],
   "source": [
    "# songs_table.printSchema()\n",
    "# print(songs_table.count())\n",
    "# print(songs_table.dropDuplicates(cols_songs_table).count())"
   ]
  },
  {
   "cell_type": "code",
   "execution_count": 6,
   "id": "09ad8e8d-d9ea-4d25-b1f6-81bf059e4fba",
   "metadata": {
    "execution": {
     "iopub.execute_input": "2022-08-08T22:26:08.172952Z",
     "iopub.status.busy": "2022-08-08T22:26:08.172608Z",
     "iopub.status.idle": "2022-08-08T22:26:46.233357Z",
     "shell.execute_reply": "2022-08-08T22:26:46.232545Z",
     "shell.execute_reply.started": "2022-08-08T22:26:08.172913Z"
    },
    "tags": []
   },
   "outputs": [
    {
     "data": {
      "application/vnd.jupyter.widget-view+json": {
       "model_id": "dca1c7dc992f49418cfb3692639d85ad",
       "version_major": 2,
       "version_minor": 0
      },
      "text/plain": [
       "VBox()"
      ]
     },
     "metadata": {},
     "output_type": "display_data"
    },
    {
     "data": {
      "application/vnd.jupyter.widget-view+json": {
       "model_id": "",
       "version_major": 2,
       "version_minor": 0
      },
      "text/plain": [
       "FloatProgress(value=0.0, bar_style='info', description='Progress:', layout=Layout(height='25px', width='50%'),…"
      ]
     },
     "metadata": {},
     "output_type": "display_data"
    }
   ],
   "source": [
    "# write songs table to parquet files partitioned by year and artist\n",
    "output_path = \"s3://udacity-bkt-rc301-spark-project/output_data/songs_table/\"\n",
    "songs_table.write \\\n",
    "        .option(\"header\", True) \\\n",
    "        .partitionBy(\"year\", \"artist_id\") \\\n",
    "        .mode(\"Overwrite\") \\\n",
    "        .parquet(output_path)\n",
    "\n",
    "# another way of writing\n",
    "# user_log.write.save(out_path, format=\"csv\", header=True)"
   ]
  },
  {
   "cell_type": "code",
   "execution_count": 7,
   "id": "021250ea-6ba7-4b81-bedf-004ba7b60188",
   "metadata": {
    "execution": {
     "iopub.execute_input": "2022-08-08T22:26:46.234976Z",
     "iopub.status.busy": "2022-08-08T22:26:46.234650Z",
     "iopub.status.idle": "2022-08-08T22:26:46.646320Z",
     "shell.execute_reply": "2022-08-08T22:26:46.645321Z",
     "shell.execute_reply.started": "2022-08-08T22:26:46.234937Z"
    },
    "tags": []
   },
   "outputs": [
    {
     "data": {
      "application/vnd.jupyter.widget-view+json": {
       "model_id": "325b279dab814916b5ba905b13dce3f9",
       "version_major": 2,
       "version_minor": 0
      },
      "text/plain": [
       "VBox()"
      ]
     },
     "metadata": {},
     "output_type": "display_data"
    },
    {
     "data": {
      "application/vnd.jupyter.widget-view+json": {
       "model_id": "",
       "version_major": 2,
       "version_minor": 0
      },
      "text/plain": [
       "FloatProgress(value=0.0, bar_style='info', description='Progress:', layout=Layout(height='25px', width='50%'),…"
      ]
     },
     "metadata": {},
     "output_type": "display_data"
    },
    {
     "name": "stdout",
     "output_type": "stream",
     "text": [
      "root\n",
      " |-- artist_id: string (nullable = true)\n",
      " |-- name: string (nullable = true)\n",
      " |-- location: string (nullable = true)\n",
      " |-- latitude: double (nullable = true)\n",
      " |-- longitude: double (nullable = true)"
     ]
    }
   ],
   "source": [
    "# extract columns to create artists table\n",
    "cols_artists_table = [\n",
    "    'artist_id', 'artist_name', 'artist_location', 'artist_latitude',\n",
    "    'artist_longitude'\n",
    "]\n",
    "artists_table = df.select(cols_artists_table).dropDuplicates(cols_artists_table)\n",
    "artists_table = artists_table.withColumnRenamed('artist_name', 'name') \\\n",
    "                .withColumnRenamed('artist_location', 'location') \\\n",
    "                .withColumnRenamed('artist_latitude','latitude') \\\n",
    "                .withColumnRenamed('artist_longitude','longitude')\n",
    "artists_table.printSchema()"
   ]
  },
  {
   "cell_type": "code",
   "execution_count": null,
   "id": "c66816ca-b061-4e9f-81f0-639d5646715e",
   "metadata": {
    "tags": []
   },
   "outputs": [],
   "source": [
    "# write artists table to parquet files\n",
    "output_path = \"s3://udacity-bkt-rc301-spark-project/output_data/artists_table/\"\n",
    "artists_table.write \\\n",
    "        .option(\"header\", True) \\\n",
    "        .mode(\"Overwrite\") \\\n",
    "        .parquet(output_path)"
   ]
  },
  {
   "cell_type": "markdown",
   "id": "0a2d9c9c-8713-4daf-a48a-bb0404f6400f",
   "metadata": {},
   "source": [
    "## Process Log Data"
   ]
  },
  {
   "cell_type": "code",
   "execution_count": 11,
   "id": "91e39a29-3463-43d5-ae81-7e732d14cecf",
   "metadata": {
    "execution": {
     "iopub.execute_input": "2022-08-08T22:38:54.921588Z",
     "iopub.status.busy": "2022-08-08T22:38:54.921254Z",
     "iopub.status.idle": "2022-08-08T22:38:55.150144Z",
     "shell.execute_reply": "2022-08-08T22:38:55.149261Z",
     "shell.execute_reply.started": "2022-08-08T22:38:54.921555Z"
    },
    "tags": []
   },
   "outputs": [
    {
     "data": {
      "application/vnd.jupyter.widget-view+json": {
       "model_id": "9cc28e51b6074369afcf612de1282ee4",
       "version_major": 2,
       "version_minor": 0
      },
      "text/plain": [
       "VBox()"
      ]
     },
     "metadata": {},
     "output_type": "display_data"
    },
    {
     "data": {
      "application/vnd.jupyter.widget-view+json": {
       "model_id": "",
       "version_major": 2,
       "version_minor": 0
      },
      "text/plain": [
       "FloatProgress(value=0.0, bar_style='info', description='Progress:', layout=Layout(height='25px', width='50%'),…"
      ]
     },
     "metadata": {},
     "output_type": "display_data"
    }
   ],
   "source": [
    "# parameters\n",
    "input_data = 's3a://udacity-bkt-rc301-spark-project/data/'\n",
    "output_data = 's3://udacity-bkt-rc301-spark-project/output_data/'"
   ]
  },
  {
   "cell_type": "code",
   "execution_count": 87,
   "id": "a8c24551-722d-4e9d-ba58-785e7259eb23",
   "metadata": {
    "execution": {
     "iopub.execute_input": "2022-08-08T23:09:52.577658Z",
     "iopub.status.busy": "2022-08-08T23:09:52.576960Z",
     "iopub.status.idle": "2022-08-08T23:09:53.257872Z",
     "shell.execute_reply": "2022-08-08T23:09:53.256680Z",
     "shell.execute_reply.started": "2022-08-08T23:09:52.577614Z"
    },
    "tags": []
   },
   "outputs": [
    {
     "data": {
      "application/vnd.jupyter.widget-view+json": {
       "model_id": "9484d70730e141f4b31e9e20a408e692",
       "version_major": 2,
       "version_minor": 0
      },
      "text/plain": [
       "VBox()"
      ]
     },
     "metadata": {},
     "output_type": "display_data"
    },
    {
     "data": {
      "application/vnd.jupyter.widget-view+json": {
       "model_id": "",
       "version_major": 2,
       "version_minor": 0
      },
      "text/plain": [
       "FloatProgress(value=0.0, bar_style='info', description='Progress:', layout=Layout(height='25px', width='50%'),…"
      ]
     },
     "metadata": {},
     "output_type": "display_data"
    }
   ],
   "source": [
    "# get filepath to log data file\n",
    "log_data = f\"{input_data}log_data/\""
   ]
  },
  {
   "cell_type": "code",
   "execution_count": 113,
   "id": "ab39c0a4-dbae-4531-a1cd-fe6a55bb6d0f",
   "metadata": {
    "execution": {
     "iopub.execute_input": "2022-08-08T23:11:01.901907Z",
     "iopub.status.busy": "2022-08-08T23:11:01.901530Z",
     "iopub.status.idle": "2022-08-08T23:11:03.014365Z",
     "shell.execute_reply": "2022-08-08T23:11:03.013329Z",
     "shell.execute_reply.started": "2022-08-08T23:11:01.901874Z"
    },
    "tags": []
   },
   "outputs": [
    {
     "data": {
      "application/vnd.jupyter.widget-view+json": {
       "model_id": "2e401173466f425a95aeac2f7ededa84",
       "version_major": 2,
       "version_minor": 0
      },
      "text/plain": [
       "VBox()"
      ]
     },
     "metadata": {},
     "output_type": "display_data"
    },
    {
     "data": {
      "application/vnd.jupyter.widget-view+json": {
       "model_id": "",
       "version_major": 2,
       "version_minor": 0
      },
      "text/plain": [
       "FloatProgress(value=0.0, bar_style='info', description='Progress:', layout=Layout(height='25px', width='50%'),…"
      ]
     },
     "metadata": {},
     "output_type": "display_data"
    }
   ],
   "source": [
    "# read log data file\n",
    "log_schema = StructType( \\\n",
    "                    [StructField('artist', StringType(), True), \\\n",
    "                         StructField('auth', StringType(), True), \\\n",
    "                         StructField('firstName', StringType(), True), \\\n",
    "                         StructField('gender', StringType(), True), \\\n",
    "                         StructField('itemInSession', LongType(), True), \\\n",
    "                         StructField('lastName', StringType(), True), \\\n",
    "                         StructField('length', DoubleType(), True), \\\n",
    "                         StructField('level', StringType(), True), \\\n",
    "                         StructField('location', StringType(), True), \\\n",
    "                         StructField('method', StringType(), True), \\\n",
    "                         StructField('page', StringType(), True), \\\n",
    "                         StructField('registration', DoubleType(), True), \\\n",
    "                         StructField('sessionId', LongType(), True), \\\n",
    "                         StructField('song', StringType(), True), \\\n",
    "                         StructField('status', LongType(), True), \\\n",
    "                         StructField('ts', LongType(), True), \\\n",
    "                         StructField('userAgent', StringType(), True), \\\n",
    "                         StructField('userId', StringType(), True) \\\n",
    "                    ])\n",
    "df = spark.read.schema(log_schema)\\\n",
    "                .json(log_data) \\\n",
    "                .withColumnRenamed('userId', 'user_id') \\\n",
    "                .withColumnRenamed('firstName', 'first_name') \\\n",
    "                .withColumnRenamed('lastName','last_name') \\\n",
    "                .withColumnRenamed('sessionId','session_id') \\\n",
    "                .withColumnRenamed('userAgent','user_agent')\n",
    "# df = spark.read.json(log_data)"
   ]
  },
  {
   "cell_type": "code",
   "execution_count": 114,
   "id": "f39678cf-0220-48da-978a-5fd937755433",
   "metadata": {
    "execution": {
     "iopub.execute_input": "2022-08-08T23:11:03.016958Z",
     "iopub.status.busy": "2022-08-08T23:11:03.016385Z",
     "iopub.status.idle": "2022-08-08T23:11:03.258308Z",
     "shell.execute_reply": "2022-08-08T23:11:03.257365Z",
     "shell.execute_reply.started": "2022-08-08T23:11:03.016897Z"
    },
    "tags": []
   },
   "outputs": [
    {
     "data": {
      "application/vnd.jupyter.widget-view+json": {
       "model_id": "a594966d5c86475687fcfe647e11d951",
       "version_major": 2,
       "version_minor": 0
      },
      "text/plain": [
       "VBox()"
      ]
     },
     "metadata": {},
     "output_type": "display_data"
    },
    {
     "data": {
      "application/vnd.jupyter.widget-view+json": {
       "model_id": "",
       "version_major": 2,
       "version_minor": 0
      },
      "text/plain": [
       "FloatProgress(value=0.0, bar_style='info', description='Progress:', layout=Layout(height='25px', width='50%'),…"
      ]
     },
     "metadata": {},
     "output_type": "display_data"
    }
   ],
   "source": [
    "# filter by actions for song plays\n",
    "df = df.filter(\"page=='NextSong'\")"
   ]
  },
  {
   "cell_type": "code",
   "execution_count": 115,
   "id": "44e3124f-32ef-4e11-ae05-b587298186ce",
   "metadata": {
    "execution": {
     "iopub.execute_input": "2022-08-08T23:11:03.262850Z",
     "iopub.status.busy": "2022-08-08T23:11:03.262459Z",
     "iopub.status.idle": "2022-08-08T23:11:03.593547Z",
     "shell.execute_reply": "2022-08-08T23:11:03.592147Z",
     "shell.execute_reply.started": "2022-08-08T23:11:03.262805Z"
    },
    "tags": []
   },
   "outputs": [
    {
     "data": {
      "application/vnd.jupyter.widget-view+json": {
       "model_id": "7c174ec14a094698a839ef22615d64c5",
       "version_major": 2,
       "version_minor": 0
      },
      "text/plain": [
       "VBox()"
      ]
     },
     "metadata": {},
     "output_type": "display_data"
    },
    {
     "data": {
      "application/vnd.jupyter.widget-view+json": {
       "model_id": "",
       "version_major": 2,
       "version_minor": 0
      },
      "text/plain": [
       "FloatProgress(value=0.0, bar_style='info', description='Progress:', layout=Layout(height='25px', width='50%'),…"
      ]
     },
     "metadata": {},
     "output_type": "display_data"
    }
   ],
   "source": [
    "# extract columns for users table    \n",
    "cols_users_table = ['user_id', 'first_name', 'last_name', 'gender', 'level']\n",
    "users_table = df.select(cols_users_table).dropDuplicates(cols_users_table)\n"
   ]
  },
  {
   "cell_type": "code",
   "execution_count": 116,
   "id": "33555e7a-6c39-4bd7-86a6-38260c2c6f38",
   "metadata": {
    "execution": {
     "iopub.execute_input": "2022-08-08T23:11:03.595520Z",
     "iopub.status.busy": "2022-08-08T23:11:03.595115Z",
     "iopub.status.idle": "2022-08-08T23:11:09.315546Z",
     "shell.execute_reply": "2022-08-08T23:11:09.314434Z",
     "shell.execute_reply.started": "2022-08-08T23:11:03.595477Z"
    },
    "tags": []
   },
   "outputs": [
    {
     "data": {
      "application/vnd.jupyter.widget-view+json": {
       "model_id": "37a87b01ae704694b6d0f626e8f7b99d",
       "version_major": 2,
       "version_minor": 0
      },
      "text/plain": [
       "VBox()"
      ]
     },
     "metadata": {},
     "output_type": "display_data"
    },
    {
     "data": {
      "application/vnd.jupyter.widget-view+json": {
       "model_id": "",
       "version_major": 2,
       "version_minor": 0
      },
      "text/plain": [
       "FloatProgress(value=0.0, bar_style='info', description='Progress:', layout=Layout(height='25px', width='50%'),…"
      ]
     },
     "metadata": {},
     "output_type": "display_data"
    }
   ],
   "source": [
    "# write users table to parquet files\n",
    "users_table.write \\\n",
    "        .option(\"header\", True) \\\n",
    "        .mode(\"Overwrite\") \\\n",
    "        .parquet(f\"{output_data}users_table/\")"
   ]
  },
  {
   "cell_type": "code",
   "execution_count": 117,
   "id": "8903a5b1-b4a1-4c13-8e1e-89cbf00721d0",
   "metadata": {
    "execution": {
     "iopub.execute_input": "2022-08-08T23:11:09.319197Z",
     "iopub.status.busy": "2022-08-08T23:11:09.318835Z",
     "iopub.status.idle": "2022-08-08T23:11:09.491186Z",
     "shell.execute_reply": "2022-08-08T23:11:09.490337Z",
     "shell.execute_reply.started": "2022-08-08T23:11:09.319153Z"
    },
    "tags": []
   },
   "outputs": [
    {
     "data": {
      "application/vnd.jupyter.widget-view+json": {
       "model_id": "6a56b4d6b286410d8883082604829ad2",
       "version_major": 2,
       "version_minor": 0
      },
      "text/plain": [
       "VBox()"
      ]
     },
     "metadata": {},
     "output_type": "display_data"
    },
    {
     "data": {
      "application/vnd.jupyter.widget-view+json": {
       "model_id": "",
       "version_major": 2,
       "version_minor": 0
      },
      "text/plain": [
       "FloatProgress(value=0.0, bar_style='info', description='Progress:', layout=Layout(height='25px', width='50%'),…"
      ]
     },
     "metadata": {},
     "output_type": "display_data"
    }
   ],
   "source": [
    "a = df.select('ts')\n",
    "# a.show(5)"
   ]
  },
  {
   "cell_type": "code",
   "execution_count": 118,
   "id": "fd8fe782-3af4-48c2-9868-04025cbd4535",
   "metadata": {
    "execution": {
     "iopub.execute_input": "2022-08-08T23:11:09.493014Z",
     "iopub.status.busy": "2022-08-08T23:11:09.492750Z",
     "iopub.status.idle": "2022-08-08T23:11:10.524793Z",
     "shell.execute_reply": "2022-08-08T23:11:10.523014Z",
     "shell.execute_reply.started": "2022-08-08T23:11:09.492987Z"
    },
    "tags": []
   },
   "outputs": [
    {
     "data": {
      "application/vnd.jupyter.widget-view+json": {
       "model_id": "d2d0c13cd4f946e192588fd318c5cb89",
       "version_major": 2,
       "version_minor": 0
      },
      "text/plain": [
       "VBox()"
      ]
     },
     "metadata": {},
     "output_type": "display_data"
    },
    {
     "data": {
      "application/vnd.jupyter.widget-view+json": {
       "model_id": "",
       "version_major": 2,
       "version_minor": 0
      },
      "text/plain": [
       "FloatProgress(value=0.0, bar_style='info', description='Progress:', layout=Layout(height='25px', width='50%'),…"
      ]
     },
     "metadata": {},
     "output_type": "display_data"
    },
    {
     "name": "stdout",
     "output_type": "stream",
     "text": [
      "+-------------+-----------------------+\n",
      "|ts           |timestamp              |\n",
      "+-------------+-----------------------+\n",
      "|1542241826796|2018-11-15 00:30:26.796|\n",
      "|1542242481796|2018-11-15 00:41:21.796|\n",
      "|1542242741796|2018-11-15 00:45:41.796|\n",
      "|1542253449796|2018-11-15 03:44:09.796|\n",
      "|1542260935796|2018-11-15 05:48:55.796|\n",
      "+-------------+-----------------------+\n",
      "only showing top 5 rows"
     ]
    }
   ],
   "source": [
    "# get_timestamp = udf(lambda x: int(datetime.datetime.fromtimestamp(x / 1000.0).hour), TimestampType())\n",
    "get_timestamp = udf(lambda x : datetime.fromtimestamp(x / 1000), TimestampType())\n",
    "b = a.withColumn('timestamp', get_timestamp('ts'))\n",
    "b.show(5, truncate=False)"
   ]
  },
  {
   "cell_type": "code",
   "execution_count": 94,
   "id": "e60df2d1-b1a7-4bc9-a1f2-ae3e8d8be8c8",
   "metadata": {
    "execution": {
     "iopub.execute_input": "2022-08-08T23:10:04.299901Z",
     "iopub.status.busy": "2022-08-08T23:10:04.299219Z",
     "iopub.status.idle": "2022-08-08T23:10:04.544990Z",
     "shell.execute_reply": "2022-08-08T23:10:04.543605Z",
     "shell.execute_reply.started": "2022-08-08T23:10:04.299857Z"
    },
    "tags": []
   },
   "outputs": [
    {
     "data": {
      "application/vnd.jupyter.widget-view+json": {
       "model_id": "f68681492ea44e3eb7bee74e5bb43d0a",
       "version_major": 2,
       "version_minor": 0
      },
      "text/plain": [
       "VBox()"
      ]
     },
     "metadata": {},
     "output_type": "display_data"
    },
    {
     "data": {
      "application/vnd.jupyter.widget-view+json": {
       "model_id": "",
       "version_major": 2,
       "version_minor": 0
      },
      "text/plain": [
       "FloatProgress(value=0.0, bar_style='info', description='Progress:', layout=Layout(height='25px', width='50%'),…"
      ]
     },
     "metadata": {},
     "output_type": "display_data"
    }
   ],
   "source": [
    "# c = a.select(to_timestamp(a.ts/1000).alias('utc_time'))#.show(10, truncate=False)"
   ]
  },
  {
   "cell_type": "code",
   "execution_count": 95,
   "id": "62076255-6515-4b01-9896-f5ef62592c90",
   "metadata": {
    "execution": {
     "iopub.execute_input": "2022-08-08T23:10:04.548037Z",
     "iopub.status.busy": "2022-08-08T23:10:04.547650Z",
     "iopub.status.idle": "2022-08-08T23:10:04.841028Z",
     "shell.execute_reply": "2022-08-08T23:10:04.840018Z",
     "shell.execute_reply.started": "2022-08-08T23:10:04.547993Z"
    },
    "tags": []
   },
   "outputs": [
    {
     "data": {
      "application/vnd.jupyter.widget-view+json": {
       "model_id": "b70061f89e0d4b8e9d23353378ae8c28",
       "version_major": 2,
       "version_minor": 0
      },
      "text/plain": [
       "VBox()"
      ]
     },
     "metadata": {},
     "output_type": "display_data"
    },
    {
     "data": {
      "application/vnd.jupyter.widget-view+json": {
       "model_id": "",
       "version_major": 2,
       "version_minor": 0
      },
      "text/plain": [
       "FloatProgress(value=0.0, bar_style='info', description='Progress:', layout=Layout(height='25px', width='50%'),…"
      ]
     },
     "metadata": {},
     "output_type": "display_data"
    }
   ],
   "source": [
    "# a.select(from_unixtime(a.ts/1000).alias('utc_time')).show(10, truncate=False)"
   ]
  },
  {
   "cell_type": "code",
   "execution_count": 119,
   "id": "996fc091-67e0-429d-82af-f6d0478fd4b0",
   "metadata": {
    "execution": {
     "iopub.execute_input": "2022-08-08T23:11:10.527934Z",
     "iopub.status.busy": "2022-08-08T23:11:10.527306Z",
     "iopub.status.idle": "2022-08-08T23:11:10.752679Z",
     "shell.execute_reply": "2022-08-08T23:11:10.751764Z",
     "shell.execute_reply.started": "2022-08-08T23:11:10.527888Z"
    },
    "tags": []
   },
   "outputs": [
    {
     "data": {
      "application/vnd.jupyter.widget-view+json": {
       "model_id": "59e3e16b6a954497a08bae347cbf1b87",
       "version_major": 2,
       "version_minor": 0
      },
      "text/plain": [
       "VBox()"
      ]
     },
     "metadata": {},
     "output_type": "display_data"
    },
    {
     "data": {
      "application/vnd.jupyter.widget-view+json": {
       "model_id": "",
       "version_major": 2,
       "version_minor": 0
      },
      "text/plain": [
       "FloatProgress(value=0.0, bar_style='info', description='Progress:', layout=Layout(height='25px', width='50%'),…"
      ]
     },
     "metadata": {},
     "output_type": "display_data"
    }
   ],
   "source": [
    "# create timestamp column from original timestamp column\n",
    "get_timestamp = udf(lambda x : datetime.fromtimestamp(x / 1000), TimestampType())\n",
    "df = df.withColumn('start_time', get_timestamp('ts'))"
   ]
  },
  {
   "cell_type": "code",
   "execution_count": 97,
   "id": "0b839a21-4178-4b49-9c0b-0a9a83914bf7",
   "metadata": {
    "execution": {
     "iopub.execute_input": "2022-08-08T23:10:05.141996Z",
     "iopub.status.busy": "2022-08-08T23:10:05.141584Z",
     "iopub.status.idle": "2022-08-08T23:10:05.364573Z",
     "shell.execute_reply": "2022-08-08T23:10:05.363715Z",
     "shell.execute_reply.started": "2022-08-08T23:10:05.141953Z"
    },
    "tags": []
   },
   "outputs": [
    {
     "data": {
      "application/vnd.jupyter.widget-view+json": {
       "model_id": "e7140b45aa9c478c89b43b3488973ae4",
       "version_major": 2,
       "version_minor": 0
      },
      "text/plain": [
       "VBox()"
      ]
     },
     "metadata": {},
     "output_type": "display_data"
    },
    {
     "data": {
      "application/vnd.jupyter.widget-view+json": {
       "model_id": "",
       "version_major": 2,
       "version_minor": 0
      },
      "text/plain": [
       "FloatProgress(value=0.0, bar_style='info', description='Progress:', layout=Layout(height='25px', width='50%'),…"
      ]
     },
     "metadata": {},
     "output_type": "display_data"
    },
    {
     "name": "stdout",
     "output_type": "stream",
     "text": [
      "root\n",
      " |-- artist: string (nullable = true)\n",
      " |-- auth: string (nullable = true)\n",
      " |-- first_name: string (nullable = true)\n",
      " |-- gender: string (nullable = true)\n",
      " |-- itemInSession: long (nullable = true)\n",
      " |-- last_name: string (nullable = true)\n",
      " |-- length: double (nullable = true)\n",
      " |-- level: string (nullable = true)\n",
      " |-- location: string (nullable = true)\n",
      " |-- method: string (nullable = true)\n",
      " |-- page: string (nullable = true)\n",
      " |-- registration: double (nullable = true)\n",
      " |-- session_id: long (nullable = true)\n",
      " |-- song: string (nullable = true)\n",
      " |-- status: long (nullable = true)\n",
      " |-- ts: long (nullable = true)\n",
      " |-- userAgent: string (nullable = true)\n",
      " |-- user_id: string (nullable = true)\n",
      " |-- start_time: timestamp (nullable = true)\n",
      " |-- dt: struct (nullable = true)\n",
      " |    |-- hour: integer (nullable = true)\n",
      " |    |-- day: integer (nullable = true)\n",
      " |    |-- week: integer (nullable = true)\n",
      " |    |-- month: integer (nullable = true)\n",
      " |    |-- year: integer (nullable = true)\n",
      " |    |-- weekday: integer (nullable = true)"
     ]
    }
   ],
   "source": [
    "df.printSchema()"
   ]
  },
  {
   "cell_type": "code",
   "execution_count": 98,
   "id": "b1e5ac0f-b004-47b7-9a68-ecf18174f95a",
   "metadata": {
    "execution": {
     "iopub.execute_input": "2022-08-08T23:10:05.366369Z",
     "iopub.status.busy": "2022-08-08T23:10:05.365850Z",
     "iopub.status.idle": "2022-08-08T23:10:05.685560Z",
     "shell.execute_reply": "2022-08-08T23:10:05.684704Z",
     "shell.execute_reply.started": "2022-08-08T23:10:05.366323Z"
    },
    "tags": []
   },
   "outputs": [
    {
     "data": {
      "application/vnd.jupyter.widget-view+json": {
       "model_id": "5b2e627e8e7a48b8ab70e0b8c52e5d1c",
       "version_major": 2,
       "version_minor": 0
      },
      "text/plain": [
       "VBox()"
      ]
     },
     "metadata": {},
     "output_type": "display_data"
    },
    {
     "data": {
      "application/vnd.jupyter.widget-view+json": {
       "model_id": "",
       "version_major": 2,
       "version_minor": 0
      },
      "text/plain": [
       "FloatProgress(value=0.0, bar_style='info', description='Progress:', layout=Layout(height='25px', width='50%'),…"
      ]
     },
     "metadata": {},
     "output_type": "display_data"
    }
   ],
   "source": [
    "# tst = udf(lambda {x, x+1} : x)\n",
    "# dt_type = StructType( \\\n",
    "#             [StructField('hour', IntegerType(), True), \\\n",
    "#                  StructField('day', IntegerType(), True) \\\n",
    "#             ])"
   ]
  },
  {
   "cell_type": "code",
   "execution_count": 120,
   "id": "9c175cdc-c134-45db-82cd-208968f1fb13",
   "metadata": {
    "execution": {
     "iopub.execute_input": "2022-08-08T23:11:13.694070Z",
     "iopub.status.busy": "2022-08-08T23:11:13.693696Z",
     "iopub.status.idle": "2022-08-08T23:11:13.868310Z",
     "shell.execute_reply": "2022-08-08T23:11:13.867436Z",
     "shell.execute_reply.started": "2022-08-08T23:11:13.694040Z"
    },
    "tags": []
   },
   "outputs": [
    {
     "data": {
      "application/vnd.jupyter.widget-view+json": {
       "model_id": "86d74f6fb4b1485b9511de8d0e21e1dc",
       "version_major": 2,
       "version_minor": 0
      },
      "text/plain": [
       "VBox()"
      ]
     },
     "metadata": {},
     "output_type": "display_data"
    },
    {
     "data": {
      "application/vnd.jupyter.widget-view+json": {
       "model_id": "",
       "version_major": 2,
       "version_minor": 0
      },
      "text/plain": [
       "FloatProgress(value=0.0, bar_style='info', description='Progress:', layout=Layout(height='25px', width='50%'),…"
      ]
     },
     "metadata": {},
     "output_type": "display_data"
    }
   ],
   "source": [
    "# create datetime column from original timestamp column\n",
    "dt_type = StructType( \\\n",
    "            [StructField('hour', IntegerType(), True), \\\n",
    "                 StructField('day', IntegerType(), True), \\\n",
    "                 StructField('week', IntegerType(), True), \\\n",
    "                 StructField('month', IntegerType(), True), \\\n",
    "                 StructField('year', IntegerType(), True), \\\n",
    "                 StructField('weekday', IntegerType(), True) \\\n",
    "            ])\n",
    "\n",
    "def get_datetime_parts(ts):\n",
    "    dt = datetime.fromtimestamp(ts / 1000)\n",
    "    hour = dt.hour\n",
    "    day = dt.day\n",
    "    week = int(dt.strftime(\"%W\"))\n",
    "    month = dt.month\n",
    "    year = dt.year\n",
    "    weekday = dt.date().weekday()\n",
    "    return hour, day, week, month, year, weekday\n",
    "\n",
    "get_datetime = udf(get_datetime_parts, dt_type)\n",
    "df = df.withColumn('dt', get_datetime('ts'))\n",
    "# df.show(5, truncate=False)"
   ]
  },
  {
   "cell_type": "code",
   "execution_count": 180,
   "id": "a13a5d01-6b61-48e0-bca0-5105bf25ef1c",
   "metadata": {
    "execution": {
     "iopub.execute_input": "2022-08-09T00:08:47.270642Z",
     "iopub.status.busy": "2022-08-09T00:08:47.270290Z",
     "iopub.status.idle": "2022-08-09T00:08:47.491354Z",
     "shell.execute_reply": "2022-08-09T00:08:47.490478Z",
     "shell.execute_reply.started": "2022-08-09T00:08:47.270609Z"
    },
    "tags": []
   },
   "outputs": [
    {
     "data": {
      "application/vnd.jupyter.widget-view+json": {
       "model_id": "720d1dba9d974b808aa637e4e1528f70",
       "version_major": 2,
       "version_minor": 0
      },
      "text/plain": [
       "VBox()"
      ]
     },
     "metadata": {},
     "output_type": "display_data"
    },
    {
     "data": {
      "application/vnd.jupyter.widget-view+json": {
       "model_id": "",
       "version_major": 2,
       "version_minor": 0
      },
      "text/plain": [
       "FloatProgress(value=0.0, bar_style='info', description='Progress:', layout=Layout(height='25px', width='50%'),…"
      ]
     },
     "metadata": {},
     "output_type": "display_data"
    },
    {
     "name": "stdout",
     "output_type": "stream",
     "text": [
      "root\n",
      " |-- artist: string (nullable = true)\n",
      " |-- auth: string (nullable = true)\n",
      " |-- first_name: string (nullable = true)\n",
      " |-- gender: string (nullable = true)\n",
      " |-- itemInSession: long (nullable = true)\n",
      " |-- last_name: string (nullable = true)\n",
      " |-- length: double (nullable = true)\n",
      " |-- level: string (nullable = true)\n",
      " |-- location: string (nullable = true)\n",
      " |-- method: string (nullable = true)\n",
      " |-- page: string (nullable = true)\n",
      " |-- registration: double (nullable = true)\n",
      " |-- session_id: long (nullable = true)\n",
      " |-- song: string (nullable = true)\n",
      " |-- status: long (nullable = true)\n",
      " |-- ts: long (nullable = true)\n",
      " |-- user_agent: string (nullable = true)\n",
      " |-- user_id: string (nullable = true)\n",
      " |-- start_time: timestamp (nullable = true)\n",
      " |-- dt: struct (nullable = true)\n",
      " |    |-- hour: integer (nullable = true)\n",
      " |    |-- day: integer (nullable = true)\n",
      " |    |-- week: integer (nullable = true)\n",
      " |    |-- month: integer (nullable = true)\n",
      " |    |-- year: integer (nullable = true)\n",
      " |    |-- weekday: integer (nullable = true)"
     ]
    }
   ],
   "source": [
    "df.printSchema()"
   ]
  },
  {
   "cell_type": "code",
   "execution_count": 101,
   "id": "00f727d5-c866-462f-b383-1dae19a9c9df",
   "metadata": {
    "execution": {
     "iopub.execute_input": "2022-08-08T23:10:06.971616Z",
     "iopub.status.busy": "2022-08-08T23:10:06.971169Z",
     "iopub.status.idle": "2022-08-08T23:10:07.268477Z",
     "shell.execute_reply": "2022-08-08T23:10:07.267619Z",
     "shell.execute_reply.started": "2022-08-08T23:10:06.971573Z"
    },
    "tags": []
   },
   "outputs": [
    {
     "data": {
      "application/vnd.jupyter.widget-view+json": {
       "model_id": "45fc6efa3ba94b7a8f803cf1f1f1ae58",
       "version_major": 2,
       "version_minor": 0
      },
      "text/plain": [
       "VBox()"
      ]
     },
     "metadata": {},
     "output_type": "display_data"
    },
    {
     "data": {
      "application/vnd.jupyter.widget-view+json": {
       "model_id": "",
       "version_major": 2,
       "version_minor": 0
      },
      "text/plain": [
       "FloatProgress(value=0.0, bar_style='info', description='Progress:', layout=Layout(height='25px', width='50%'),…"
      ]
     },
     "metadata": {},
     "output_type": "display_data"
    }
   ],
   "source": [
    "# df.select('dt.week').show(5)"
   ]
  },
  {
   "cell_type": "code",
   "execution_count": 121,
   "id": "7e0d9b24-d267-4ad3-98b1-9d8d80ddcb2a",
   "metadata": {
    "execution": {
     "iopub.execute_input": "2022-08-08T23:11:19.152768Z",
     "iopub.status.busy": "2022-08-08T23:11:19.152430Z",
     "iopub.status.idle": "2022-08-08T23:11:20.639713Z",
     "shell.execute_reply": "2022-08-08T23:11:20.638760Z",
     "shell.execute_reply.started": "2022-08-08T23:11:19.152736Z"
    },
    "tags": []
   },
   "outputs": [
    {
     "data": {
      "application/vnd.jupyter.widget-view+json": {
       "model_id": "5bebff83ea464a0589d6372779b99f40",
       "version_major": 2,
       "version_minor": 0
      },
      "text/plain": [
       "VBox()"
      ]
     },
     "metadata": {},
     "output_type": "display_data"
    },
    {
     "data": {
      "application/vnd.jupyter.widget-view+json": {
       "model_id": "",
       "version_major": 2,
       "version_minor": 0
      },
      "text/plain": [
       "FloatProgress(value=0.0, bar_style='info', description='Progress:', layout=Layout(height='25px', width='50%'),…"
      ]
     },
     "metadata": {},
     "output_type": "display_data"
    },
    {
     "name": "stdout",
     "output_type": "stream",
     "text": [
      "+-----------------------+----+---+----+-----+----+-------+\n",
      "|start_time             |hour|day|week|month|year|weekday|\n",
      "+-----------------------+----+---+----+-----+----+-------+\n",
      "|2018-11-30 10:18:07.796|10  |30 |48  |11   |2018|4      |\n",
      "|2018-11-30 10:35:18.796|10  |30 |48  |11   |2018|4      |\n",
      "|2018-11-30 16:07:52.796|16  |30 |48  |11   |2018|4      |\n",
      "|2018-11-16 14:09:01.796|14  |16 |46  |11   |2018|4      |\n",
      "|2018-11-16 16:49:10.796|16  |16 |46  |11   |2018|4      |\n",
      "+-----------------------+----+---+----+-----+----+-------+\n",
      "only showing top 5 rows"
     ]
    }
   ],
   "source": [
    "# extract columns to create time table\n",
    "time_table_cols = ['start_time', 'dt.hour', 'dt.day', 'dt.week', 'dt.month', 'dt.year', 'dt.weekday']\n",
    "time_table = df.select(time_table_cols).distinct()\n",
    "time_table.show(5, truncate=False)"
   ]
  },
  {
   "cell_type": "code",
   "execution_count": 103,
   "id": "3c5519eb-e1da-436f-8205-260543e16d8b",
   "metadata": {
    "execution": {
     "iopub.execute_input": "2022-08-08T23:10:08.831433Z",
     "iopub.status.busy": "2022-08-08T23:10:08.831067Z",
     "iopub.status.idle": "2022-08-08T23:10:09.058823Z",
     "shell.execute_reply": "2022-08-08T23:10:09.057875Z",
     "shell.execute_reply.started": "2022-08-08T23:10:08.831351Z"
    },
    "tags": []
   },
   "outputs": [
    {
     "data": {
      "application/vnd.jupyter.widget-view+json": {
       "model_id": "cef6828479e74a2abf6626f39da440d9",
       "version_major": 2,
       "version_minor": 0
      },
      "text/plain": [
       "VBox()"
      ]
     },
     "metadata": {},
     "output_type": "display_data"
    },
    {
     "data": {
      "application/vnd.jupyter.widget-view+json": {
       "model_id": "",
       "version_major": 2,
       "version_minor": 0
      },
      "text/plain": [
       "FloatProgress(value=0.0, bar_style='info', description='Progress:', layout=Layout(height='25px', width='50%'),…"
      ]
     },
     "metadata": {},
     "output_type": "display_data"
    },
    {
     "name": "stdout",
     "output_type": "stream",
     "text": [
      "root\n",
      " |-- start_time: timestamp (nullable = true)\n",
      " |-- hour: integer (nullable = true)\n",
      " |-- day: integer (nullable = true)\n",
      " |-- week: integer (nullable = true)\n",
      " |-- month: integer (nullable = true)\n",
      " |-- year: integer (nullable = true)\n",
      " |-- weekday: integer (nullable = true)"
     ]
    }
   ],
   "source": [
    "time_table.printSchema()"
   ]
  },
  {
   "cell_type": "code",
   "execution_count": 104,
   "id": "6c713c1d-29a9-40c4-9dee-04f2633e6ff6",
   "metadata": {
    "execution": {
     "iopub.execute_input": "2022-08-08T23:10:09.060609Z",
     "iopub.status.busy": "2022-08-08T23:10:09.060231Z",
     "iopub.status.idle": "2022-08-08T23:10:16.939008Z",
     "shell.execute_reply": "2022-08-08T23:10:16.922638Z",
     "shell.execute_reply.started": "2022-08-08T23:10:09.060568Z"
    },
    "tags": []
   },
   "outputs": [
    {
     "data": {
      "application/vnd.jupyter.widget-view+json": {
       "model_id": "5b3b2ab023a047cbb64110fd8babd154",
       "version_major": 2,
       "version_minor": 0
      },
      "text/plain": [
       "VBox()"
      ]
     },
     "metadata": {},
     "output_type": "display_data"
    },
    {
     "data": {
      "application/vnd.jupyter.widget-view+json": {
       "model_id": "",
       "version_major": 2,
       "version_minor": 0
      },
      "text/plain": [
       "FloatProgress(value=0.0, bar_style='info', description='Progress:', layout=Layout(height='25px', width='50%'),…"
      ]
     },
     "metadata": {},
     "output_type": "display_data"
    }
   ],
   "source": [
    "# write time table to parquet files partitioned by year and month\n",
    "time_table.write \\\n",
    "        .option(\"header\", True) \\\n",
    "        .partitionBy(\"year\", \"month\") \\\n",
    "        .mode(\"Overwrite\") \\\n",
    "        .parquet(f\"{output_data}time_table/\")"
   ]
  },
  {
   "cell_type": "code",
   "execution_count": 105,
   "id": "e78e6441-c668-4ee2-af52-f9eac7bcd16c",
   "metadata": {
    "execution": {
     "iopub.execute_input": "2022-08-08T23:10:16.943702Z",
     "iopub.status.busy": "2022-08-08T23:10:16.941005Z",
     "iopub.status.idle": "2022-08-08T23:10:17.341974Z",
     "shell.execute_reply": "2022-08-08T23:10:17.341022Z",
     "shell.execute_reply.started": "2022-08-08T23:10:16.943651Z"
    },
    "tags": []
   },
   "outputs": [
    {
     "data": {
      "application/vnd.jupyter.widget-view+json": {
       "model_id": "f1e6e22bb47f440fb0b8242937666886",
       "version_major": 2,
       "version_minor": 0
      },
      "text/plain": [
       "VBox()"
      ]
     },
     "metadata": {},
     "output_type": "display_data"
    },
    {
     "data": {
      "application/vnd.jupyter.widget-view+json": {
       "model_id": "",
       "version_major": 2,
       "version_minor": 0
      },
      "text/plain": [
       "FloatProgress(value=0.0, bar_style='info', description='Progress:', layout=Layout(height='25px', width='50%'),…"
      ]
     },
     "metadata": {},
     "output_type": "display_data"
    }
   ],
   "source": [
    "# songplay_id, start_time, user_id, level, song_id, artist_id, session_id, location, user_agent"
   ]
  },
  {
   "cell_type": "code",
   "execution_count": 122,
   "id": "68179e2e-b899-446a-b8c7-7b51560a8f4c",
   "metadata": {
    "execution": {
     "iopub.execute_input": "2022-08-08T23:11:23.431023Z",
     "iopub.status.busy": "2022-08-08T23:11:23.430693Z",
     "iopub.status.idle": "2022-08-08T23:11:24.866972Z",
     "shell.execute_reply": "2022-08-08T23:11:24.866091Z",
     "shell.execute_reply.started": "2022-08-08T23:11:23.430991Z"
    },
    "tags": []
   },
   "outputs": [
    {
     "data": {
      "application/vnd.jupyter.widget-view+json": {
       "model_id": "9c8a7ba8c46c4cad8261a75733659b5e",
       "version_major": 2,
       "version_minor": 0
      },
      "text/plain": [
       "VBox()"
      ]
     },
     "metadata": {},
     "output_type": "display_data"
    },
    {
     "data": {
      "application/vnd.jupyter.widget-view+json": {
       "model_id": "",
       "version_major": 2,
       "version_minor": 0
      },
      "text/plain": [
       "FloatProgress(value=0.0, bar_style='info', description='Progress:', layout=Layout(height='25px', width='50%'),…"
      ]
     },
     "metadata": {},
     "output_type": "display_data"
    }
   ],
   "source": [
    "# read in song data to use for songplays table\n",
    "song_data = f\"{input_data}song_data/*/*/*\"\n",
    "song_schema = StructType([StructField('artist_id', StringType(), True), \\\n",
    "                            StructField('artist_latitude', DoubleType(), True), \\\n",
    "                            StructField('artist_location', StringType(), True), \\\n",
    "                            StructField('artist_longitude', DoubleType(), True), \\\n",
    "                            StructField('artist_name', StringType(), True), \\\n",
    "                            StructField('duration', DoubleType(), True), \\\n",
    "                            StructField('num_songs', LongType(), True), \\\n",
    "                            StructField('song_id', StringType(), True), \\\n",
    "                            StructField('title', StringType(), True), \\\n",
    "                            StructField('year', IntegerType(), True) \\\n",
    "                         ])\n",
    "song_cols = ['artist_id', 'artist_name', 'song_id', 'title']\n",
    "song_df = spark.read.schema(song_schema).json(song_data).select(song_cols).distinct()"
   ]
  },
  {
   "cell_type": "code",
   "execution_count": 123,
   "id": "6ac39fd1-2f6f-4ab0-9ea9-936cf38e3d0c",
   "metadata": {
    "execution": {
     "iopub.execute_input": "2022-08-08T23:11:24.869242Z",
     "iopub.status.busy": "2022-08-08T23:11:24.868726Z",
     "iopub.status.idle": "2022-08-08T23:11:25.837448Z",
     "shell.execute_reply": "2022-08-08T23:11:25.836625Z",
     "shell.execute_reply.started": "2022-08-08T23:11:24.869199Z"
    },
    "tags": []
   },
   "outputs": [
    {
     "data": {
      "application/vnd.jupyter.widget-view+json": {
       "model_id": "e734b02a694a4a76a8efeb23a12a840f",
       "version_major": 2,
       "version_minor": 0
      },
      "text/plain": [
       "VBox()"
      ]
     },
     "metadata": {},
     "output_type": "display_data"
    },
    {
     "data": {
      "application/vnd.jupyter.widget-view+json": {
       "model_id": "",
       "version_major": 2,
       "version_minor": 0
      },
      "text/plain": [
       "FloatProgress(value=0.0, bar_style='info', description='Progress:', layout=Layout(height='25px', width='50%'),…"
      ]
     },
     "metadata": {},
     "output_type": "display_data"
    },
    {
     "name": "stdout",
     "output_type": "stream",
     "text": [
      "+------------------+---------------------+------------------+-----------------------------+\n",
      "|artist_id         |artist_name          |song_id           |title                        |\n",
      "+------------------+---------------------+------------------+-----------------------------+\n",
      "|AR10USD1187B99F3F1|Tweeterfriendly Music|SOHKNRJ12A6701D1F8|Drop of Rain                 |\n",
      "|AR0IAWL1187B9A96D0|Danilo Perez         |SONSKXP12A8C13A2C9|Native Soul                  |\n",
      "|AREDBBQ1187B98AFF5|Eddie Calvert        |SOBBXLX12A58A79DDA|Erica (2005 Digital Remaster)|\n",
      "|AR62SOJ1187FB47BB5|Chase & Status       |SOGVQGJ12AB017F169|Ten Tonne                    |\n",
      "|ARULZCI1241B9C8611|Luna Orbit Project   |SOSWKAV12AB018FC91|Midnight Star                |\n",
      "+------------------+---------------------+------------------+-----------------------------+\n",
      "only showing top 5 rows"
     ]
    }
   ],
   "source": [
    "# song_df.printSchema()\n",
    "song_df.show(5, truncate=False)"
   ]
  },
  {
   "cell_type": "code",
   "execution_count": 147,
   "id": "6d8b7c6a-b7a3-40d8-a357-14414334fada",
   "metadata": {
    "execution": {
     "iopub.execute_input": "2022-08-08T23:31:24.232177Z",
     "iopub.status.busy": "2022-08-08T23:31:24.231851Z",
     "iopub.status.idle": "2022-08-08T23:31:27.891290Z",
     "shell.execute_reply": "2022-08-08T23:31:27.890467Z",
     "shell.execute_reply.started": "2022-08-08T23:31:24.232145Z"
    },
    "tags": []
   },
   "outputs": [
    {
     "data": {
      "application/vnd.jupyter.widget-view+json": {
       "model_id": "c7f7018017ff44a2b0f487014e2c8955",
       "version_major": 2,
       "version_minor": 0
      },
      "text/plain": [
       "VBox()"
      ]
     },
     "metadata": {},
     "output_type": "display_data"
    },
    {
     "data": {
      "application/vnd.jupyter.widget-view+json": {
       "model_id": "",
       "version_major": 2,
       "version_minor": 0
      },
      "text/plain": [
       "FloatProgress(value=0.0, bar_style='info', description='Progress:', layout=Layout(height='25px', width='50%'),…"
      ]
     },
     "metadata": {},
     "output_type": "display_data"
    },
    {
     "name": "stdout",
     "output_type": "stream",
     "text": [
      "+-------+------------------+---------+----------+------+------------------+---------+------------------+-----+--------------------+------+--------+--------------------+-----------------+--------------------+------+--------------------+--------------------+-----------------+\n",
      "|summary|            artist|     auth|first_name|gender|     itemInSession|last_name|            length|level|            location|method|    page|        registration|       session_id|                song|status|                  ts|          user_agent|          user_id|\n",
      "+-------+------------------+---------+----------+------+------------------+---------+------------------+-----+--------------------+------+--------+--------------------+-----------------+--------------------+------+--------------------+--------------------+-----------------+\n",
      "|  count|              6820|     6820|      6820|  6820|              6820|     6820|              6820| 6820|                6820|  6820|    6820|                6820|             6820|                6820|  6820|                6820|                6820|             6820|\n",
      "|   mean|             266.5|     null|      null|  null|22.761143695014663|     null|247.03222091348934| null|                null|  null|    null|1.540778618854797...|599.1818181818181|  1388.3636363636363| 200.0|1.542485482323272...|                null|54.68123167155425|\n",
      "| stddev|109.00229355385143|     null|      null|  null|23.444636081691684|     null|102.97592081740878| null|                null|  null|    null|2.6274240255170962E8|284.9533328431848|  2347.5150807919113|   0.0| 7.003235871641862E8|                null|28.16273441215238|\n",
      "|    min|               !!!|Logged In|    Adelyn|     F|                 0| Arellano|          15.85587| free|Atlanta-Sandy Spr...|   PUT|NextSong|   1.539908999796E12|                3| I Will Not Reap ...|   200|       1541106106796|\"Mozilla/5.0 (Mac...|               10|\n",
      "|    25%|             311.0|     null|      null|  null|                 4|     null|          197.3024| null|                null|  null|    null|   1.540558108796E12|              374|               143.0|   200|       1542032412796|                null|             29.0|\n",
      "|    50%|             311.0|     null|      null|  null|                15|     null|          232.9073| null|                null|  null|    null|   1.540829025796E12|              605|               332.0|   200|       1542464820796|                null|             49.0|\n",
      "|    75%|             311.0|     null|      null|  null|                35|     null|          274.1024| null|                null|  null|    null|   1.541020249796E12|              834|              1963.0|   200|       1543063519796|                null|             80.0|\n",
      "|    max|   ÃÂtienne Daho|Logged In|   Zachary|     M|               126|    Young|        2594.87302| paid|       Yuba City, CA|   PUT|NextSong|   1.541098488796E12|             1114|ÃÂ Aqui Que Se ...|   200|       1543607664796|Mozilla/5.0 (comp...|               99|\n",
      "+-------+------------------+---------+----------+------+------------------+---------+------------------+-----+--------------------+------+--------+--------------------+-----------------+--------------------+------+--------------------+--------------------+-----------------+"
     ]
    }
   ],
   "source": [
    "# df.summary().show()"
   ]
  },
  {
   "cell_type": "code",
   "execution_count": 173,
   "id": "6ad59c52-f3a7-49d5-a9a7-ffdb6ab0cdb1",
   "metadata": {
    "execution": {
     "iopub.execute_input": "2022-08-09T00:06:08.204234Z",
     "iopub.status.busy": "2022-08-09T00:06:08.203897Z",
     "iopub.status.idle": "2022-08-09T00:06:08.611717Z",
     "shell.execute_reply": "2022-08-09T00:06:08.610791Z",
     "shell.execute_reply.started": "2022-08-09T00:06:08.204204Z"
    },
    "tags": []
   },
   "outputs": [
    {
     "data": {
      "application/vnd.jupyter.widget-view+json": {
       "model_id": "7920bfb3dccf4eed9c57d99e509acc58",
       "version_major": 2,
       "version_minor": 0
      },
      "text/plain": [
       "VBox()"
      ]
     },
     "metadata": {},
     "output_type": "display_data"
    },
    {
     "data": {
      "application/vnd.jupyter.widget-view+json": {
       "model_id": "",
       "version_major": 2,
       "version_minor": 0
      },
      "text/plain": [
       "FloatProgress(value=0.0, bar_style='info', description='Progress:', layout=Layout(height='25px', width='50%'),…"
      ]
     },
     "metadata": {},
     "output_type": "display_data"
    }
   ],
   "source": [
    "# extract columns from joined song and log datasets to create songplays table \n",
    "log_cols = ['start_time', 'user_id', 'artist', 'song', 'level', 'session_id', 'location', 'user_agent', 'dt.year', 'dt.month']\n",
    "# songplays_cols = ['songplay_id', 'start_time', 'user_id', 'level', 'song_id', 'artist_id', 'session_id', 'location', 'user_agent']\n",
    "\n",
    "join_condition = ((df.artist==song_df.artist_name) & (df.song==song_df.title))\n",
    "songplays_table = df.select(log_cols) \\\n",
    "    .join(song_df, on=join_condition, how='left')"
   ]
  },
  {
   "cell_type": "code",
   "execution_count": 174,
   "id": "fb16bddb-b230-44b0-abcb-4e2e97ff658b",
   "metadata": {
    "execution": {
     "iopub.execute_input": "2022-08-09T00:06:08.613789Z",
     "iopub.status.busy": "2022-08-09T00:06:08.613422Z",
     "iopub.status.idle": "2022-08-09T00:06:08.785395Z",
     "shell.execute_reply": "2022-08-09T00:06:08.784560Z",
     "shell.execute_reply.started": "2022-08-09T00:06:08.613747Z"
    },
    "tags": []
   },
   "outputs": [
    {
     "data": {
      "application/vnd.jupyter.widget-view+json": {
       "model_id": "e63104c9f98047db87e254a6f9f961fe",
       "version_major": 2,
       "version_minor": 0
      },
      "text/plain": [
       "VBox()"
      ]
     },
     "metadata": {},
     "output_type": "display_data"
    },
    {
     "data": {
      "application/vnd.jupyter.widget-view+json": {
       "model_id": "",
       "version_major": 2,
       "version_minor": 0
      },
      "text/plain": [
       "FloatProgress(value=0.0, bar_style='info', description='Progress:', layout=Layout(height='25px', width='50%'),…"
      ]
     },
     "metadata": {},
     "output_type": "display_data"
    }
   ],
   "source": [
    "# songplays_cols = ['start_time', 'user_id', 'level', 'song_id', 'artist_id', 'session_id', 'location', 'user_agent', 'year', 'month']\n",
    "# songplays_table = songplays_table.select(songplays_cols)"
   ]
  },
  {
   "cell_type": "code",
   "execution_count": 175,
   "id": "1f09b965-3038-4efd-97a4-eba626e365fa",
   "metadata": {
    "execution": {
     "iopub.execute_input": "2022-08-09T00:06:09.559752Z",
     "iopub.status.busy": "2022-08-09T00:06:09.559435Z",
     "iopub.status.idle": "2022-08-09T00:06:09.756404Z",
     "shell.execute_reply": "2022-08-09T00:06:09.755415Z",
     "shell.execute_reply.started": "2022-08-09T00:06:09.559722Z"
    },
    "tags": []
   },
   "outputs": [
    {
     "data": {
      "application/vnd.jupyter.widget-view+json": {
       "model_id": "e841dd7617774652a1c650ec7c5527c2",
       "version_major": 2,
       "version_minor": 0
      },
      "text/plain": [
       "VBox()"
      ]
     },
     "metadata": {},
     "output_type": "display_data"
    },
    {
     "data": {
      "application/vnd.jupyter.widget-view+json": {
       "model_id": "",
       "version_major": 2,
       "version_minor": 0
      },
      "text/plain": [
       "FloatProgress(value=0.0, bar_style='info', description='Progress:', layout=Layout(height='25px', width='50%'),…"
      ]
     },
     "metadata": {},
     "output_type": "display_data"
    },
    {
     "name": "stdout",
     "output_type": "stream",
     "text": [
      "root\n",
      " |-- start_time: timestamp (nullable = true)\n",
      " |-- user_id: string (nullable = true)\n",
      " |-- artist: string (nullable = true)\n",
      " |-- song: string (nullable = true)\n",
      " |-- level: string (nullable = true)\n",
      " |-- session_id: long (nullable = true)\n",
      " |-- location: string (nullable = true)\n",
      " |-- user_agent: string (nullable = true)\n",
      " |-- year: integer (nullable = true)\n",
      " |-- month: integer (nullable = true)\n",
      " |-- artist_id: string (nullable = true)\n",
      " |-- artist_name: string (nullable = true)\n",
      " |-- song_id: string (nullable = true)\n",
      " |-- title: string (nullable = true)"
     ]
    }
   ],
   "source": [
    "songplays_table.printSchema()"
   ]
  },
  {
   "cell_type": "code",
   "execution_count": 176,
   "id": "4abb2274-cd66-4eba-9885-4da01318bc2f",
   "metadata": {
    "execution": {
     "iopub.execute_input": "2022-08-09T00:06:14.386733Z",
     "iopub.status.busy": "2022-08-09T00:06:14.386340Z",
     "iopub.status.idle": "2022-08-09T00:06:30.221915Z",
     "shell.execute_reply": "2022-08-09T00:06:30.220994Z",
     "shell.execute_reply.started": "2022-08-09T00:06:14.386701Z"
    },
    "tags": []
   },
   "outputs": [
    {
     "data": {
      "application/vnd.jupyter.widget-view+json": {
       "model_id": "03aaf6c04b794203a87a029a0bbbf0b3",
       "version_major": 2,
       "version_minor": 0
      },
      "text/plain": [
       "VBox()"
      ]
     },
     "metadata": {},
     "output_type": "display_data"
    },
    {
     "data": {
      "application/vnd.jupyter.widget-view+json": {
       "model_id": "",
       "version_major": 2,
       "version_minor": 0
      },
      "text/plain": [
       "FloatProgress(value=0.0, bar_style='info', description='Progress:', layout=Layout(height='25px', width='50%'),…"
      ]
     },
     "metadata": {},
     "output_type": "display_data"
    },
    {
     "name": "stdout",
     "output_type": "stream",
     "text": [
      "+-----------------------+-------+-----------+----------------------------------------------+-----+----------+------------------------------------+-----------------------------------------------------------------------------------------------------------------------------------------+----+-----+---------+-----------+-------+-----+\n",
      "|start_time             |user_id|artist     |song                                          |level|session_id|location                            |user_agent                                                                                                                               |year|month|artist_id|artist_name|song_id|title|\n",
      "+-----------------------+-------+-----------+----------------------------------------------+-----+----------+------------------------------------+-----------------------------------------------------------------------------------------------------------------------------------------+----+-----+---------+-----------+-------+-----+\n",
      "|2018-11-15 00:30:26.796|26     |Harmonia   |Sehr kosmisch                                 |free |583       |San Jose-Sunnyvale-Santa Clara, CA  |\"Mozilla/5.0 (X11; Linux x86_64) AppleWebKit/537.36 (KHTML, like Gecko) Ubuntu Chromium/36.0.1985.125 Chrome/36.0.1985.125 Safari/537.36\"|2018|11   |null     |null       |null   |null |\n",
      "|2018-11-15 00:41:21.796|26     |The Prodigy|The Big Gundown                               |free |583       |San Jose-Sunnyvale-Santa Clara, CA  |\"Mozilla/5.0 (X11; Linux x86_64) AppleWebKit/537.36 (KHTML, like Gecko) Ubuntu Chromium/36.0.1985.125 Chrome/36.0.1985.125 Safari/537.36\"|2018|11   |null     |null       |null   |null |\n",
      "|2018-11-15 00:45:41.796|26     |Train      |Marry Me                                      |free |583       |San Jose-Sunnyvale-Santa Clara, CA  |\"Mozilla/5.0 (X11; Linux x86_64) AppleWebKit/537.36 (KHTML, like Gecko) Ubuntu Chromium/36.0.1985.125 Chrome/36.0.1985.125 Safari/537.36\"|2018|11   |null     |null       |null   |null |\n",
      "|2018-11-15 03:44:09.796|61     |Sony Wonder|Blackbird                                     |free |597       |Houston-The Woodlands-Sugar Land, TX|\"Mozilla/5.0 (Macintosh; Intel Mac OS X 10_9_4) AppleWebKit/537.77.4 (KHTML, like Gecko) Version/7.0.5 Safari/537.77.4\"                  |2018|11   |null     |null       |null   |null |\n",
      "|2018-11-15 05:48:55.796|80     |Van Halen  |Best Of Both Worlds (Remastered Album Version)|paid |602       |Portland-South Portland, ME         |\"Mozilla/5.0 (Macintosh; Intel Mac OS X 10_9_4) AppleWebKit/537.36 (KHTML, like Gecko) Chrome/36.0.1985.143 Safari/537.36\"               |2018|11   |null     |null       |null   |null |\n",
      "+-----------------------+-------+-----------+----------------------------------------------+-----+----------+------------------------------------+-----------------------------------------------------------------------------------------------------------------------------------------+----+-----+---------+-----------+-------+-----+\n",
      "only showing top 5 rows"
     ]
    }
   ],
   "source": [
    "songplays_table.show(5, truncate=False)"
   ]
  },
  {
   "cell_type": "code",
   "execution_count": 177,
   "id": "cdad7c0a-badc-4651-a75c-415d09546e4e",
   "metadata": {
    "execution": {
     "iopub.execute_input": "2022-08-09T00:06:30.223929Z",
     "iopub.status.busy": "2022-08-09T00:06:30.223568Z",
     "iopub.status.idle": "2022-08-09T00:06:30.441553Z",
     "shell.execute_reply": "2022-08-09T00:06:30.410000Z",
     "shell.execute_reply.started": "2022-08-09T00:06:30.223887Z"
    },
    "tags": []
   },
   "outputs": [
    {
     "data": {
      "application/vnd.jupyter.widget-view+json": {
       "model_id": "dc63d7e3d63242d4850dff0551d8e483",
       "version_major": 2,
       "version_minor": 0
      },
      "text/plain": [
       "VBox()"
      ]
     },
     "metadata": {},
     "output_type": "display_data"
    },
    {
     "data": {
      "application/vnd.jupyter.widget-view+json": {
       "model_id": "",
       "version_major": 2,
       "version_minor": 0
      },
      "text/plain": [
       "FloatProgress(value=0.0, bar_style='info', description='Progress:', layout=Layout(height='25px', width='50%'),…"
      ]
     },
     "metadata": {},
     "output_type": "display_data"
    }
   ],
   "source": [
    "window = Window.orderBy('start_time')\n",
    "songplays_table = songplays_table.withColumn('songplay_id', row_number().over(window))"
   ]
  },
  {
   "cell_type": "code",
   "execution_count": 178,
   "id": "100980a7-63f9-4b6f-8670-b71f14cecac5",
   "metadata": {
    "execution": {
     "iopub.execute_input": "2022-08-09T00:06:30.443800Z",
     "iopub.status.busy": "2022-08-09T00:06:30.443462Z",
     "iopub.status.idle": "2022-08-09T00:06:30.684740Z",
     "shell.execute_reply": "2022-08-09T00:06:30.683727Z",
     "shell.execute_reply.started": "2022-08-09T00:06:30.443761Z"
    },
    "tags": []
   },
   "outputs": [
    {
     "data": {
      "application/vnd.jupyter.widget-view+json": {
       "model_id": "1815fee562284bfba298705d915ea904",
       "version_major": 2,
       "version_minor": 0
      },
      "text/plain": [
       "VBox()"
      ]
     },
     "metadata": {},
     "output_type": "display_data"
    },
    {
     "data": {
      "application/vnd.jupyter.widget-view+json": {
       "model_id": "",
       "version_major": 2,
       "version_minor": 0
      },
      "text/plain": [
       "FloatProgress(value=0.0, bar_style='info', description='Progress:', layout=Layout(height='25px', width='50%'),…"
      ]
     },
     "metadata": {},
     "output_type": "display_data"
    }
   ],
   "source": [
    "# songplays_table.dropDuplicates(['songplay_id']).count()"
   ]
  },
  {
   "cell_type": "code",
   "execution_count": 179,
   "id": "b91d262e-65ea-4f69-a79b-2f8b319b032a",
   "metadata": {
    "execution": {
     "iopub.execute_input": "2022-08-09T00:06:30.739409Z",
     "iopub.status.busy": "2022-08-09T00:06:30.738974Z",
     "iopub.status.idle": "2022-08-09T00:06:38.787192Z",
     "shell.execute_reply": "2022-08-09T00:06:38.786116Z",
     "shell.execute_reply.started": "2022-08-09T00:06:30.739363Z"
    },
    "tags": []
   },
   "outputs": [
    {
     "data": {
      "application/vnd.jupyter.widget-view+json": {
       "model_id": "58453230d0ca4f968e2216fdc3ca7f39",
       "version_major": 2,
       "version_minor": 0
      },
      "text/plain": [
       "VBox()"
      ]
     },
     "metadata": {},
     "output_type": "display_data"
    },
    {
     "data": {
      "application/vnd.jupyter.widget-view+json": {
       "model_id": "",
       "version_major": 2,
       "version_minor": 0
      },
      "text/plain": [
       "FloatProgress(value=0.0, bar_style='info', description='Progress:', layout=Layout(height='25px', width='50%'),…"
      ]
     },
     "metadata": {},
     "output_type": "display_data"
    }
   ],
   "source": [
    "# write songplays table to parquet files partitioned by year and month\n",
    "songplays_cols_final = ['songplay_id', 'start_time', 'user_id', 'level', 'song_id', 'artist_id', 'session_id', 'location', 'user_agent', 'year', 'month']\n",
    "songplays_table.select(songplays_cols_final).write \\\n",
    "        .option(\"header\", True) \\\n",
    "        .partitionBy(\"year\", \"month\") \\\n",
    "        .mode(\"Overwrite\") \\\n",
    "        .parquet(f\"{output_data}songplays_table/\")"
   ]
  },
  {
   "cell_type": "code",
   "execution_count": null,
   "id": "d206d626-7ba4-4e16-b4c2-764d732f821f",
   "metadata": {},
   "outputs": [],
   "source": []
  },
  {
   "cell_type": "code",
   "execution_count": null,
   "id": "f174dffc-eeda-409a-9af3-96b08017d476",
   "metadata": {},
   "outputs": [],
   "source": []
  }
 ],
 "metadata": {
  "kernelspec": {
   "display_name": "PySpark",
   "language": "",
   "name": "pysparkkernel"
  },
  "language_info": {
   "codemirror_mode": {
    "name": "python",
    "version": 2
   },
   "mimetype": "text/x-python",
   "name": "pyspark",
   "pygments_lexer": "python2"
  }
 },
 "nbformat": 4,
 "nbformat_minor": 5
}
