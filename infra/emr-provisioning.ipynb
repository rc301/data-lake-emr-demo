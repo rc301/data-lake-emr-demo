{
 "cells": [
  {
   "cell_type": "code",
   "execution_count": null,
   "metadata": {},
   "outputs": [],
   "source": [
    "# import configparser\n",
    "# from datetime import datetime\n",
    "# import os\n",
    "# from pyspark.sql import SparkSession\n",
    "# from pyspark.sql.functions import udf, col\n",
    "# from pyspark.sql.functions import year, month, dayofmonth, hour, weekofyear, date_format\n",
    "# from pyspark.sql.functions import *\n",
    "# from pyspark.sql.types import *\n",
    "# from pyspark.sql.window import Window\n",
    "\n",
    "# config = configparser.ConfigParser()\n",
    "# config.read('dl.cfg')\n",
    "\n",
    "# os.environ['AWS_ACCESS_KEY_ID']=config['AWS_ACCESS_KEY_ID']\n",
    "# os.environ['AWS_SECRET_ACCESS_KEY']=config['AWS_SECRET_ACCESS_KEY']\n",
    "# os.environ['AWS_SESSION_TOKEN']=config['AWS_SESSION_TOKEN']"
   ]
  },
  {
   "cell_type": "code",
   "execution_count": null,
   "metadata": {},
   "outputs": [],
   "source": [
    "# S3_URI_PATH='mock'\n",
    "# APPLICATION_NAME='mock'\n",
    "# NUM_INSTANCES=3\n",
    "# KEYPAIR_FILE_NAME='mock'"
   ]
  },
  {
   "cell_type": "code",
   "execution_count": null,
   "metadata": {},
   "outputs": [],
   "source": [
    "# !aws emr create-cluster \\\n",
    "#     --name <YOUR_CLUSTER_NAME> \\\n",
    "#     --use-default-roles \\\n",
    "#     --release-label emr-5.28.0 \\\n",
    "#     --instance-count NUM_INSTANCES \\\n",
    "#     --applications Name=Spark  \\\n",
    "#     --bootstrap-actions Path=S3_URI_PATH \\\n",
    "#     --ec2-attributes KeyName=KEYPAIR_FILE_NAME, SubnetId=<subnet-Id> \\\n",
    "#     --instance-type m5.xlarge "
   ]
  },
  {
   "cell_type": "code",
   "execution_count": 3,
   "metadata": {},
   "outputs": [
    {
     "ename": "SyntaxError",
     "evalue": "invalid syntax (302839409.py, line 1)",
     "output_type": "error",
     "traceback": [
      "\u001b[1;36m  Input \u001b[1;32mIn [3]\u001b[1;36m\u001b[0m\n\u001b[1;33m    aws emr create-cluster\u001b[0m\n\u001b[1;37m        ^\u001b[0m\n\u001b[1;31mSyntaxError\u001b[0m\u001b[1;31m:\u001b[0m invalid syntax\n"
     ]
    }
   ],
   "source": [
    "aws emr create-cluster \n",
    "    --applications Name=Spark Name=Hive Name=Hadoop Name=Livy Name=Hue \n",
    "    --ebs-root-volume-size 10 \n",
    "    --ec2-attributes '{\n",
    "                        \"KeyName\":\"my-key-pair-emr\",\n",
    "                        \"InstanceProfile\":\"EMR_EC2_DefaultRole\",\n",
    "                        \"SubnetId\":\"subnet-0fe153355504a6d20\",\n",
    "                        \"EmrManagedSlaveSecurityGroup\":\"sg-05a6b97307e335722\",\n",
    "                        \"EmrManagedMasterSecurityGroup\":\"sg-0274ab4a78a5300a2\"\n",
    "                    }' \n",
    "    --service-role EMR_DefaultRole \n",
    "    --enable-debugging \n",
    "    --release-label emr-5.20.0 \n",
    "    --log-uri 's3n://aws-logs-145516949576-us-west-2/elasticmapreduce/' \n",
    "    --name 'My cluster' \n",
    "    --instance-groups '[\n",
    "                        {\n",
    "                            \"InstanceCount\":1,\n",
    "                            \"EbsConfiguration\":{\n",
    "                                \"EbsBlockDeviceConfigs\":\n",
    "                                    [{\n",
    "                                        \"VolumeSpecification\":\n",
    "                                            {\n",
    "                                            \"SizeInGB\":32,\n",
    "                                            \"VolumeType\":\"gp2\"\n",
    "                                            },\n",
    "                                        \"VolumesPerInstance\":1\n",
    "                                    }]\n",
    "                                },\n",
    "                            \"InstanceGroupType\":\"MASTER\",\n",
    "                            \"InstanceType\":\"m3.xlarge\",\n",
    "                            \"Name\":\"Master Instance Group\"\n",
    "                        },\n",
    "                        {\n",
    "                            \"InstanceCount\":2,\n",
    "                            \"EbsConfiguration\":{\n",
    "                                \"EbsBlockDeviceConfigs\":\n",
    "                                    [{\n",
    "                                        \"VolumeSpecification\":\n",
    "                                            {\n",
    "                                            \"SizeInGB\":32,\n",
    "                                            \"VolumeType\":\"gp2\"\n",
    "                                            },\n",
    "                                        \"VolumesPerInstance\":1\n",
    "                                    }]\n",
    "                                },\n",
    "                            \"InstanceGroupType\":\"CORE\",\n",
    "                            \"InstanceType\":\"m3.xlarge\",\n",
    "                            \"Name\":\"Core Instance Group\"\n",
    "                        }\n",
    "                    ]' \n",
    "    --configurations '[\n",
    "                        {\"Classification\":\"spark\",\n",
    "                            \"Properties\":{\n",
    "                                            \"maximizeResourceAllocation\":\"true\"\n",
    "                                        }\n",
    "                        }\n",
    "                    ]' \n",
    "    --scale-down-behavior TERMINATE_AT_TASK_COMPLETION \n",
    "    --region us-west-2"
   ]
  }
 ],
 "metadata": {
  "kernelspec": {
   "display_name": "Python 3.9.10 64-bit",
   "language": "python",
   "name": "python3"
  },
  "language_info": {
   "codemirror_mode": {
    "name": "ipython",
    "version": 3
   },
   "file_extension": ".py",
   "mimetype": "text/x-python",
   "name": "python",
   "nbconvert_exporter": "python",
   "pygments_lexer": "ipython3",
   "version": "3.9.10"
  },
  "orig_nbformat": 4,
  "vscode": {
   "interpreter": {
    "hash": "1a1b587bc292ec8ddae3d659c98f33895caf1177464139961e4670e38f3e2152"
   }
  }
 },
 "nbformat": 4,
 "nbformat_minor": 2
}
