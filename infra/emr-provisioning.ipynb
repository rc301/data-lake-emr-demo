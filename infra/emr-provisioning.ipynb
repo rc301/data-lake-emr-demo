{
 "cells": [
  {
   "cell_type": "code",
   "execution_count": null,
   "metadata": {},
   "outputs": [],
   "source": []
  }
 ],
 "metadata": {
  "kernelspec": {
   "display_name": "Python 3.9.10 64-bit",
   "language": "python",
   "name": "python3"
  },
  "language_info": {
   "name": "python",
   "version": "3.9.10"
  },
  "orig_nbformat": 4,
  "vscode": {
   "interpreter": {
    "hash": "1a1b587bc292ec8ddae3d659c98f33895caf1177464139961e4670e38f3e2152"
   }
  }
 },
 "nbformat": 4,
 "nbformat_minor": 2
}
